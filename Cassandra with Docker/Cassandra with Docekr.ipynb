{
 "cells": [
  {
   "cell_type": "markdown",
   "metadata": {},
   "source": [
    "# Project 2  AIDI 1005  - Aman Joshi 200543257 "
   ]
  },
  {
   "cell_type": "markdown",
   "metadata": {},
   "source": [
    "## Model Data using Cassandra\n",
    "\n",
    "\n",
    "### Please just submit this notebook in the Submission and make sure each cell has been executed and output is clearly displayed.\n",
    "\n",
    "### The aim of the project is to solve the three queries given below."
   ]
  },
  {
   "cell_type": "markdown",
   "metadata": {},
   "source": [
    "### Introduction\n",
    "\n",
    "There is a music streaming app called SoundCloud, that has been using their music streaming app and collecting data on songs and user activity and their aim is to analyze this data especially understanding what songs users are listening to. Currently, they are not making use of a NoSQL db and they have the data stored as a CSV file, thus its difficult for them to query the data. So our task is to create a NoSQL database for helping them with the analysis."
   ]
  },
  {
   "cell_type": "markdown",
   "metadata": {},
   "source": [
    "#### Import Packages "
   ]
  },
  {
   "cell_type": "code",
   "execution_count": 1,
   "metadata": {},
   "outputs": [
    {
     "name": "stdout",
     "output_type": "stream",
     "text": [
      "Requirement already satisfied: cassandra-driver in /Users/icyboguyaman/opt/anaconda3/lib/python3.9/site-packages (3.25.0)\r\n",
      "Requirement already satisfied: geomet<0.3,>=0.1 in /Users/icyboguyaman/opt/anaconda3/lib/python3.9/site-packages (from cassandra-driver) (0.2.1.post1)\r\n",
      "Requirement already satisfied: six>=1.9 in /Users/icyboguyaman/opt/anaconda3/lib/python3.9/site-packages (from cassandra-driver) (1.16.0)\r\n",
      "Requirement already satisfied: click in /Users/icyboguyaman/opt/anaconda3/lib/python3.9/site-packages (from geomet<0.3,>=0.1->cassandra-driver) (8.0.4)\r\n"
     ]
    }
   ],
   "source": [
    "# Importing the neccessary libraries in the notebook\n",
    "\n",
    "!pip install cassandra-driver\n",
    "import pandas as pd\n",
    "import numpy as np\n",
    "import cassandra\n",
    "import csv"
   ]
  },
  {
   "cell_type": "markdown",
   "metadata": {},
   "source": [
    "\n",
    "##  The image below is a screenshot of what the data appears like in the event_data.csv\n",
    "\n",
    "<img src=\"event_data_image.jpg\">"
   ]
  },
  {
   "cell_type": "code",
   "execution_count": 2,
   "metadata": {},
   "outputs": [],
   "source": [
    "# Import Cassandra\n",
    "\n",
    "import cassandra\n",
    "\n",
    "# Import Cluster from cassandra\n",
    "\n",
    "from cassandra.cluster import Cluster "
   ]
  },
  {
   "cell_type": "markdown",
   "metadata": {},
   "source": [
    "#### Creating a Cluster"
   ]
  },
  {
   "cell_type": "code",
   "execution_count": 3,
   "metadata": {},
   "outputs": [],
   "source": [
    "# Task: Make a connection to the cassandra instance on your local machine(127.0.0.1) with port 6000 and \n",
    "# create a session to establish connection and begin executing queries\n",
    "\n",
    "from cassandra.cluster import Cluster\n",
    "try:\n",
    "    cluster = Cluster(['127.0.0.1'], port = 6000)\n",
    "    session = cluster.connect()\n",
    "except Exception as e:\n",
    "    print(e)    "
   ]
  },
  {
   "cell_type": "code",
   "execution_count": 4,
   "metadata": {},
   "outputs": [
    {
     "data": {
      "text/plain": [
       "<cassandra.cluster.ResultSet at 0x7fbd62f07bb0>"
      ]
     },
     "execution_count": 4,
     "metadata": {},
     "output_type": "execute_result"
    }
   ],
   "source": [
    "# !!!Only run if you want to delete keyspace!!! (if you re-run the code)\n",
    "\n",
    "session.execute(\"DROP KEYSPACE soundcloud\")"
   ]
  },
  {
   "cell_type": "markdown",
   "metadata": {},
   "source": [
    "#### Create & Set Keyspace"
   ]
  },
  {
   "cell_type": "code",
   "execution_count": 5,
   "metadata": {},
   "outputs": [],
   "source": [
    "# Task: Create a Keyspace and Set KEYSPACE to the keyspace specified above\n",
    "\n",
    "keyspace = \"soundcloud\"\n",
    "\n",
    "query = \"SELECT keyspace_name FROM system_schema.keyspaces WHERE keyspace_name='{}'\".format(keyspace)\n",
    "\n",
    "result = session.execute(query)\n",
    "\n",
    "session.execute(\"CREATE KEYSPACE soundcloud WITH replication = {'class': 'SimpleStrategy', 'replication_factor': 1};\")\n",
    "\n",
    "session.set_keyspace(keyspace)"
   ]
  },
  {
   "cell_type": "markdown",
   "metadata": {},
   "source": [
    "## List of Queries \n",
    "\n",
    "### 1. Find the artist_name, song_title and length of song the SoundCloud app history that was heard during  session_number = 338, and item_in_session_number  = 4\n",
    "\n",
    "\n",
    "### 2. Find the artist_name, song_title (sorted by item_in_session_number) and name(fname and lname) of the user for user_id = 10, session_number = 182\n",
    "    \n",
    "\n",
    "### 3. Find every name(fname and lname) of the user from the SoundCloud app history that listened to the song_title 'All Hands Against His Own'\n",
    "\n",
    "\n"
   ]
  },
  {
   "cell_type": "markdown",
   "metadata": {},
   "source": [
    "-----------------------------------"
   ]
  },
  {
   "cell_type": "markdown",
   "metadata": {},
   "source": [
    "### Query1 Table1: How should we model this data? Think about what should be our Primary Key/Partition Key/Clustering Key"
   ]
  },
  {
   "cell_type": "code",
   "execution_count": 6,
   "metadata": {},
   "outputs": [
    {
     "data": {
      "text/plain": [
       "<cassandra.cluster.ResultSet at 0x7fbd65338dc0>"
      ]
     },
     "execution_count": 6,
     "metadata": {},
     "output_type": "execute_result"
    }
   ],
   "source": [
    "# Task: Query 1: Find the artist_name, song_title and length of song the SoundCloud app history \n",
    "# that was heard during session_number = 338, and item_in_session_number = 4\n",
    "# make use of create table command     \n",
    "\n",
    "session.execute(\"CREATE TABLE SoundCloud1 (user_id int, artist_name text,song_title text,session_number int,item_in_session_number int,length float, PRIMARY KEY((session_number, item_in_session_number), user_id,artist_name)) WITH CLUSTERING ORDER BY (user_id ASC);\")"
   ]
  },
  {
   "cell_type": "markdown",
   "metadata": {},
   "source": [
    "### Let's insert our data into of table"
   ]
  },
  {
   "cell_type": "code",
   "execution_count": 7,
   "metadata": {
    "scrolled": false
   },
   "outputs": [],
   "source": [
    "# We have provided part of the code to set up the CSV file. Please complete the Apache Cassandra code below#\n",
    "\n",
    "file_name = 'event_data.csv'\n",
    "\n",
    "with open(file_name, encoding = 'utf8') as f:\n",
    "    csv_reader = csv.reader(f)\n",
    "    next(csv_reader) # skip the header in the csv file\n",
    "    for row in csv_reader:\n",
    "# Task: Write the INSERT statements and assign it to the query variable\n",
    "        query = \"INSERT INTO SoundCloud1 (user_id, artist_name, song_title, session_number, item_in_session_number, length) VALUES (%s, %s, %s,%s, %s, %s)\"\n",
    "        \n",
    "        # Task: Match the column in the csv file to the column in the INSERT statement.\n",
    "        # e.g., if you want to INSERT gender from csv file into the database you will use row[2]\n",
    "        # e.g., if you want to INSERT location from csv file into database you will use row[7]\n",
    "        session.execute(query, (int(row[10]), row[0], row[9], int(row[8]), int(row[3]), float(row[5])))    "
   ]
  },
  {
   "cell_type": "markdown",
   "metadata": {},
   "source": [
    "### Validate our Data Model using a SELECT"
   ]
  },
  {
   "cell_type": "code",
   "execution_count": 8,
   "metadata": {
    "scrolled": true
   },
   "outputs": [
    {
     "name": "stdout",
     "output_type": "stream",
     "text": [
      "Faithless Music Matters (Mark Knight Dub) 495.30731201171875\n"
     ]
    }
   ],
   "source": [
    "# Task: Make use of the SELECT statement and for loop to check if your query works and display the results\n",
    "# Execute the query\n",
    "\n",
    "query = \"SELECT * FROM SoundCloud1 WHERE session_number = 338 AND item_in_session_number = 4 ALLOW FILTERING;\"\n",
    "rows = session.execute(query)\n",
    "for row in rows:\n",
    "    print(row.artist_name,row.song_title, row.length)"
   ]
  },
  {
   "cell_type": "markdown",
   "metadata": {},
   "source": [
    "----------------------"
   ]
  },
  {
   "cell_type": "markdown",
   "metadata": {},
   "source": [
    "### Query2 Table2: How should we model this data? Think about what should be our Primary Key/Partition Key/Clustering Key "
   ]
  },
  {
   "cell_type": "code",
   "execution_count": 9,
   "metadata": {},
   "outputs": [
    {
     "data": {
      "text/plain": [
       "<cassandra.cluster.ResultSet at 0x7fbd653446a0>"
      ]
     },
     "execution_count": 9,
     "metadata": {},
     "output_type": "execute_result"
    }
   ],
   "source": [
    "# Task: Query 2: Find the artist_name, song_title (sorted by item_in_session_number) and \n",
    "# name(fname and lname) of the user for user_id = 10, session_number = 182 \n",
    "# make use of create table command\n",
    "\n",
    "session.execute(\"CREATE TABLE SoundCloud2 (user_id int,fname text, lname text,artist_name text,song_title text,session_number int,item_in_session_number int, PRIMARY KEY((artist_name,song_title) ,item_in_session_number)) WITH CLUSTERING ORDER BY ( item_in_session_number DESC);\")"
   ]
  },
  {
   "cell_type": "markdown",
   "metadata": {},
   "source": [
    "### Let's insert our data into of table"
   ]
  },
  {
   "cell_type": "code",
   "execution_count": 10,
   "metadata": {
    "scrolled": false
   },
   "outputs": [],
   "source": [
    "# We have provided part of the code to set up the CSV file. Please complete the Apache Cassandra code below\n",
    "\n",
    "file_name = 'event_data.csv'\n",
    "\n",
    "with open(file_name, encoding = 'utf8') as f:\n",
    "    csv_reader = csv.reader(f)\n",
    "    next(csv_reader) # skip the header in the csv file\n",
    "    for row in csv_reader:\n",
    "# Task: Write the INSERT statements and assign it to the query variable\n",
    "        query = \"INSERT INTO SoundCloud2 (user_id, fname, lname, artist_name, song_title, session_number, item_in_session_number) VALUES (%s, %s, %s,%s, %s, %s,%s)\"\n",
    "        \n",
    "        # Task: Match the column in the csv file to the column in the INSERT statement.\n",
    "        # e.g., if you want to INSERT gender from csv file into the database you will use row[2]\n",
    "        # e.g., if you want to INSERT location from csv file into database you will use row[7]\n",
    "        session.execute(query, (int(row[10]), row[1], row[4], row[0], row[9], int(row[8]), int(row[3])))"
   ]
  },
  {
   "cell_type": "markdown",
   "metadata": {},
   "source": [
    "### Validate our Data Model using a SELECT"
   ]
  },
  {
   "cell_type": "code",
   "execution_count": 11,
   "metadata": {
    "scrolled": true
   },
   "outputs": [
    {
     "name": "stdout",
     "output_type": "stream",
     "text": [
      "2 Sebastien Tellier Kilometer Sylvie Cruz\n",
      "1 Three Drives Greece 2000 Sylvie Cruz\n",
      "0 Down To The Bone Keep On Keepin' On Sylvie Cruz\n"
     ]
    }
   ],
   "source": [
    "# Task: Make use of the SELECT statement and for loop to check if your query works and display the results\n",
    "\n",
    "rows = session.execute(\"SELECT * FROM SoundCloud2 WHERE user_id = 10 AND session_number = 182 ALLOW FILTERING;\")\n",
    "for row in rows:\n",
    "    print(row.item_in_session_number,row.artist_name,row.song_title, row.fname, row.lname)"
   ]
  },
  {
   "cell_type": "markdown",
   "metadata": {},
   "source": [
    "-------------------------"
   ]
  },
  {
   "cell_type": "markdown",
   "metadata": {},
   "source": [
    "### Query3 Table3: How should we model this data? Think about what should be our Primary Key/Partition Key/Clustering Key"
   ]
  },
  {
   "cell_type": "code",
   "execution_count": 12,
   "metadata": {},
   "outputs": [
    {
     "data": {
      "text/plain": [
       "<cassandra.cluster.ResultSet at 0x7fbd65329640>"
      ]
     },
     "execution_count": 12,
     "metadata": {},
     "output_type": "execute_result"
    }
   ],
   "source": [
    "# Task: Query 3: Find every name(first and lastname) of the user from the SoundCloud app history that listened \n",
    "# to the song_title 'All Hands Against His Own'\n",
    "# make use of create table command\n",
    "\n",
    "session.execute(\"CREATE TABLE SoundCloud3 (fname text, lname text,song_title text, PRIMARY KEY((song_title)));\")"
   ]
  },
  {
   "cell_type": "markdown",
   "metadata": {},
   "source": [
    "### Let's insert our data into of table"
   ]
  },
  {
   "cell_type": "code",
   "execution_count": 13,
   "metadata": {
    "scrolled": false
   },
   "outputs": [],
   "source": [
    "# We have provided part of the code to set up the CSV file. Please complete the Apache Cassandra code below#\n",
    "\n",
    "file_name = 'event_data.csv'\n",
    "\n",
    "with open(file_name, encoding = 'utf8') as f:\n",
    "    csv_reader = csv.reader(f)\n",
    "    next(csv_reader) # skip the header in the csv file\n",
    "    for row in csv_reader:\n",
    "# Task: Write the INSERT statements and assign it to the query variable\n",
    "\n",
    "        query = \"INSERT INTO SoundCloud3 (fname, lname, song_title) VALUES (%s, %s, %s)\"\n",
    "        \n",
    "        # Task: Match the column in the csv file to the column in the INSERT statement.\n",
    "        # e.g., if you want to INSERT gender from csv file into the database you will use row[2]\n",
    "        # e.g., if you want to INSERT location from csv file into database you will use row[7]\n",
    "        \n",
    "        session.execute(query, (row[1], row[4], row[9]))"
   ]
  },
  {
   "cell_type": "markdown",
   "metadata": {},
   "source": [
    "### Validate our Data Model using a SELECT"
   ]
  },
  {
   "cell_type": "code",
   "execution_count": 14,
   "metadata": {
    "scrolled": true
   },
   "outputs": [
    {
     "name": "stdout",
     "output_type": "stream",
     "text": [
      "Sara Johnson All Hands Against His Own\n"
     ]
    }
   ],
   "source": [
    "# Task: Make use of the SELECT statement and for loop to check if your query works and display the results\n",
    "\n",
    "rows = session.execute(\"SELECT * FROM SoundCloud3 WHERE song_title='All Hands Against His Own' ALLOW FILTERING;\")\n",
    "for row in rows:\n",
    "    print(row.fname, row.lname, row.song_title)"
   ]
  },
  {
   "cell_type": "markdown",
   "metadata": {},
   "source": [
    "---------------------------------"
   ]
  },
  {
   "cell_type": "markdown",
   "metadata": {},
   "source": [
    "### Drop the tables before closing out the sessions"
   ]
  },
  {
   "cell_type": "code",
   "execution_count": 15,
   "metadata": {},
   "outputs": [
    {
     "data": {
      "text/plain": [
       "<cassandra.cluster.ResultSet at 0x7fbd65471130>"
      ]
     },
     "execution_count": 15,
     "metadata": {},
     "output_type": "execute_result"
    }
   ],
   "source": [
    "# Dropping and closing the session\n",
    "\n",
    "session.execute(\"DROP TABLE soundcloud.SoundCloud1\")\n",
    "session.execute(\"DROP TABLE soundcloud.SoundCloud2\")\n",
    "session.execute(\"DROP TABLE soundcloud.SoundCloud3\")"
   ]
  },
  {
   "cell_type": "markdown",
   "metadata": {},
   "source": [
    "### Close the session and cluster connection¶"
   ]
  },
  {
   "cell_type": "code",
   "execution_count": 16,
   "metadata": {},
   "outputs": [],
   "source": [
    "# End the session and disconnect the cluster connection\n",
    "\n",
    "session.shutdown()\n",
    "cluster.shutdown()"
   ]
  },
  {
   "cell_type": "markdown",
   "metadata": {},
   "source": [
    "-----------"
   ]
  }
 ],
 "metadata": {
  "kernelspec": {
   "display_name": "Python 3 (ipykernel)",
   "language": "python",
   "name": "python3"
  },
  "language_info": {
   "codemirror_mode": {
    "name": "ipython",
    "version": 3
   },
   "file_extension": ".py",
   "mimetype": "text/x-python",
   "name": "python",
   "nbconvert_exporter": "python",
   "pygments_lexer": "ipython3",
   "version": "3.9.12"
  }
 },
 "nbformat": 4,
 "nbformat_minor": 2
}
